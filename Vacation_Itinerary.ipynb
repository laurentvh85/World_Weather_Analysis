{
 "cells": [
  {
   "cell_type": "code",
   "execution_count": 13,
   "metadata": {},
   "outputs": [],
   "source": [
    "# Import the dependencies\n",
    "import pandas as pd\n",
    "import os\n",
    "import gmaps\n",
    "import gmaps.datasets\n",
    "import requests\n",
    "from config import g_key"
   ]
  },
  {
   "cell_type": "code",
   "execution_count": 14,
   "metadata": {},
   "outputs": [],
   "source": [
    "# Configure gmaps to use your Google API key.\n",
    "gmaps.configure(api_key=g_key)"
   ]
  },
  {
   "cell_type": "code",
   "execution_count": 15,
   "metadata": {},
   "outputs": [
    {
     "data": {
      "text/html": [
       "<div>\n",
       "<style scoped>\n",
       "    .dataframe tbody tr th:only-of-type {\n",
       "        vertical-align: middle;\n",
       "    }\n",
       "\n",
       "    .dataframe tbody tr th {\n",
       "        vertical-align: top;\n",
       "    }\n",
       "\n",
       "    .dataframe thead th {\n",
       "        text-align: right;\n",
       "    }\n",
       "</style>\n",
       "<table border=\"1\" class=\"dataframe\">\n",
       "  <thead>\n",
       "    <tr style=\"text-align: right;\">\n",
       "      <th></th>\n",
       "      <th>City_ID</th>\n",
       "      <th>City</th>\n",
       "      <th>Country</th>\n",
       "      <th>Max Temp</th>\n",
       "      <th>Current Description</th>\n",
       "      <th>Lat</th>\n",
       "      <th>Lng</th>\n",
       "      <th>Hotel Name</th>\n",
       "    </tr>\n",
       "  </thead>\n",
       "  <tbody>\n",
       "    <tr>\n",
       "      <th>0</th>\n",
       "      <td>17</td>\n",
       "      <td>Praia</td>\n",
       "      <td>CV</td>\n",
       "      <td>84.20</td>\n",
       "      <td>scattered clouds</td>\n",
       "      <td>14.92</td>\n",
       "      <td>-23.51</td>\n",
       "      <td>LT Aparthotel</td>\n",
       "    </tr>\n",
       "    <tr>\n",
       "      <th>1</th>\n",
       "      <td>19</td>\n",
       "      <td>Jetpur</td>\n",
       "      <td>IN</td>\n",
       "      <td>92.30</td>\n",
       "      <td>overcast clouds</td>\n",
       "      <td>21.73</td>\n",
       "      <td>70.62</td>\n",
       "      <td>Hotel The Grand Bansari</td>\n",
       "    </tr>\n",
       "    <tr>\n",
       "      <th>2</th>\n",
       "      <td>20</td>\n",
       "      <td>Kahului</td>\n",
       "      <td>US</td>\n",
       "      <td>78.80</td>\n",
       "      <td>overcast clouds</td>\n",
       "      <td>20.89</td>\n",
       "      <td>-156.47</td>\n",
       "      <td>Maui Seaside Hotel</td>\n",
       "    </tr>\n",
       "    <tr>\n",
       "      <th>3</th>\n",
       "      <td>34</td>\n",
       "      <td>Eskisehir</td>\n",
       "      <td>TR</td>\n",
       "      <td>80.60</td>\n",
       "      <td>few clouds</td>\n",
       "      <td>39.78</td>\n",
       "      <td>30.52</td>\n",
       "      <td>Hotel ibis Eskisehir</td>\n",
       "    </tr>\n",
       "    <tr>\n",
       "      <th>4</th>\n",
       "      <td>38</td>\n",
       "      <td>Faanui</td>\n",
       "      <td>PF</td>\n",
       "      <td>76.78</td>\n",
       "      <td>scattered clouds</td>\n",
       "      <td>-16.48</td>\n",
       "      <td>-151.75</td>\n",
       "      <td>Bora-Bora Pearl Beach Resort &amp; Spa</td>\n",
       "    </tr>\n",
       "    <tr>\n",
       "      <th>...</th>\n",
       "      <td>...</td>\n",
       "      <td>...</td>\n",
       "      <td>...</td>\n",
       "      <td>...</td>\n",
       "      <td>...</td>\n",
       "      <td>...</td>\n",
       "      <td>...</td>\n",
       "      <td>...</td>\n",
       "    </tr>\n",
       "    <tr>\n",
       "      <th>170</th>\n",
       "      <td>552</td>\n",
       "      <td>Trairi</td>\n",
       "      <td>BR</td>\n",
       "      <td>82.26</td>\n",
       "      <td>scattered clouds</td>\n",
       "      <td>-3.28</td>\n",
       "      <td>-39.27</td>\n",
       "      <td>Pousada Field Lilies - Trairi</td>\n",
       "    </tr>\n",
       "    <tr>\n",
       "      <th>171</th>\n",
       "      <td>553</td>\n",
       "      <td>Bambanglipuro</td>\n",
       "      <td>ID</td>\n",
       "      <td>76.08</td>\n",
       "      <td>clear sky</td>\n",
       "      <td>-7.95</td>\n",
       "      <td>110.28</td>\n",
       "      <td>Puri Brata</td>\n",
       "    </tr>\n",
       "    <tr>\n",
       "      <th>172</th>\n",
       "      <td>558</td>\n",
       "      <td>Toul</td>\n",
       "      <td>FR</td>\n",
       "      <td>80.60</td>\n",
       "      <td>scattered clouds</td>\n",
       "      <td>48.67</td>\n",
       "      <td>5.92</td>\n",
       "      <td>Abc Hotel</td>\n",
       "    </tr>\n",
       "    <tr>\n",
       "      <th>173</th>\n",
       "      <td>563</td>\n",
       "      <td>Bosanska Gradiska</td>\n",
       "      <td>BA</td>\n",
       "      <td>89.60</td>\n",
       "      <td>few clouds</td>\n",
       "      <td>45.14</td>\n",
       "      <td>17.25</td>\n",
       "      <td>Hostel Art Gradiska</td>\n",
       "    </tr>\n",
       "    <tr>\n",
       "      <th>174</th>\n",
       "      <td>564</td>\n",
       "      <td>Puerto Escondido</td>\n",
       "      <td>MX</td>\n",
       "      <td>77.00</td>\n",
       "      <td>broken clouds</td>\n",
       "      <td>15.85</td>\n",
       "      <td>-97.07</td>\n",
       "      <td>Aldea del Bazar Hotel and Spa</td>\n",
       "    </tr>\n",
       "  </tbody>\n",
       "</table>\n",
       "<p>175 rows × 8 columns</p>\n",
       "</div>"
      ],
      "text/plain": [
       "     City_ID               City Country  Max Temp Current Description    Lat  \\\n",
       "0         17              Praia      CV     84.20    scattered clouds  14.92   \n",
       "1         19             Jetpur      IN     92.30     overcast clouds  21.73   \n",
       "2         20            Kahului      US     78.80     overcast clouds  20.89   \n",
       "3         34          Eskisehir      TR     80.60          few clouds  39.78   \n",
       "4         38             Faanui      PF     76.78    scattered clouds -16.48   \n",
       "..       ...                ...     ...       ...                 ...    ...   \n",
       "170      552             Trairi      BR     82.26    scattered clouds  -3.28   \n",
       "171      553      Bambanglipuro      ID     76.08           clear sky  -7.95   \n",
       "172      558               Toul      FR     80.60    scattered clouds  48.67   \n",
       "173      563  Bosanska Gradiska      BA     89.60          few clouds  45.14   \n",
       "174      564   Puerto Escondido      MX     77.00       broken clouds  15.85   \n",
       "\n",
       "        Lng                          Hotel Name  \n",
       "0    -23.51                       LT Aparthotel  \n",
       "1     70.62             Hotel The Grand Bansari  \n",
       "2   -156.47                  Maui Seaside Hotel  \n",
       "3     30.52                Hotel ibis Eskisehir  \n",
       "4   -151.75  Bora-Bora Pearl Beach Resort & Spa  \n",
       "..      ...                                 ...  \n",
       "170  -39.27       Pousada Field Lilies - Trairi  \n",
       "171  110.28                          Puri Brata  \n",
       "172    5.92                           Abc Hotel  \n",
       "173   17.25                 Hostel Art Gradiska  \n",
       "174  -97.07       Aldea del Bazar Hotel and Spa  \n",
       "\n",
       "[175 rows x 8 columns]"
      ]
     },
     "execution_count": 15,
     "metadata": {},
     "output_type": "execute_result"
    }
   ],
   "source": [
    "#load files\n",
    "weather_py_data_to_load = os.path.join(\"data\",\"WeatherPy_vacation.csv\")\n",
    "weather_py_df = pd.read_csv(weather_py_data_to_load)\n",
    "weather_py_df"
   ]
  },
  {
   "cell_type": "code",
   "execution_count": 16,
   "metadata": {
    "scrolled": true
   },
   "outputs": [
    {
     "data": {
      "application/vnd.jupyter.widget-view+json": {
       "model_id": "c9b7be90ae124892a3c045a0caf4c162",
       "version_major": 2,
       "version_minor": 0
      },
      "text/plain": [
       "Figure(layout=FigureLayout(height='420px'))"
      ]
     },
     "metadata": {},
     "output_type": "display_data"
    }
   ],
   "source": [
    "# Using the template add the hotel marks to the map\n",
    "info_box_template = \"\"\"\n",
    "<dl>\n",
    "<dt>Hotel Name</dt><dd>{Hotel Name}</dd>\n",
    "<dt>City</dt><dd>{City}</dd>\n",
    "<dt>Country</dt><dd>{Country}</dd>\n",
    "<dt>Hotel Name</dt><dd>{Hotel Name} at {Max Temp}</dd>\n",
    "\"\"\"\n",
    "\n",
    "# Store the DataFrame row\n",
    "hotel_info = [info_box_template.format(**row) for index, row in weather_py_df.iterrows()]\n",
    "\n",
    "# Add a marker layer map of the vacation spots and a pop-up marker for each city\n",
    "locations = weather_py_df[[\"Lat\", \"Lng\"]]\n",
    "marker_layer = gmaps.marker_layer(locations, info_box_content=hotel_info)\n",
    "fig = gmaps.figure(center=(38,38), zoom_level = 1.8)\n",
    "fig.add_layer(marker_layer)\n",
    "fig\n"
   ]
  },
  {
   "cell_type": "code",
   "execution_count": 17,
   "metadata": {},
   "outputs": [
    {
     "name": "stdout",
     "output_type": "stream",
     "text": [
      "Please list 4 cities that are close to each other on the map\n"
     ]
    }
   ],
   "source": [
    "print(\"Please list 4 cities that are close to each other on the map\")"
   ]
  },
  {
   "cell_type": "code",
   "execution_count": 18,
   "metadata": {},
   "outputs": [
    {
     "name": "stdout",
     "output_type": "stream",
     "text": [
      "Enter first city Puerto Escondido\n",
      "Enter second city Lazaro Cardenas\n",
      "Enter third city San Patricio\n",
      "Enter fourth city Ixtapa\n"
     ]
    }
   ],
   "source": [
    "#prompt for city\n",
    "city1 = input(\"Enter first city \")\n",
    "city2 = input(\"Enter second city \")\n",
    "city3 = input(\"Enter third city \")\n",
    "city4 = input(\"Enter fourth city \")"
   ]
  },
  {
   "cell_type": "code",
   "execution_count": 19,
   "metadata": {},
   "outputs": [],
   "source": [
    "#loc for separate databases\n",
    "city1 = weather_py_df.loc[weather_py_df[\"City\"] == city1]\n",
    "city2 = weather_py_df.loc[weather_py_df[\"City\"] == city2]\n",
    "city3 = weather_py_df.loc[weather_py_df[\"City\"] == city3]\n",
    "city4 = weather_py_df.loc[weather_py_df[\"City\"] == city4]"
   ]
  },
  {
   "cell_type": "code",
   "execution_count": 20,
   "metadata": {},
   "outputs": [
    {
     "name": "stdout",
     "output_type": "stream",
     "text": [
      "     City_ID              City Country  Max Temp Current Description    Lat  \\\n",
      "174      564  Puerto Escondido      MX      77.0       broken clouds  15.85   \n",
      "\n",
      "       Lng                     Hotel Name  \n",
      "174 -97.07  Aldea del Bazar Hotel and Spa  \n",
      "     City_ID             City Country  Max Temp Current Description    Lat  \\\n",
      "168      548  Lazaro Cardenas      MX     77.74     overcast clouds  17.96   \n",
      "\n",
      "       Lng            Hotel Name  \n",
      "168 -102.2  Hotel Quinta Antigua  \n",
      "    City_ID          City Country  Max Temp Current Description    Lat    Lng  \\\n",
      "33      135  San Patricio      MX     76.77       broken clouds  19.22 -104.7   \n",
      "\n",
      "           Hotel Name  \n",
      "33  Hotel Cabo Blanco  \n",
      "     City_ID    City Country  Max Temp Current Description   Lat    Lng  \\\n",
      "107      355  Ixtapa      MX      77.0    scattered clouds  20.7 -105.2   \n",
      "\n",
      "                        Hotel Name  \n",
      "107  Container Inn Puerto Vallarta  \n"
     ]
    }
   ],
   "source": [
    "print(city1)\n",
    "print(city2)\n",
    "print(city3)\n",
    "print(city4)"
   ]
  },
  {
   "cell_type": "code",
   "execution_count": 21,
   "metadata": {},
   "outputs": [
    {
     "name": "stdout",
     "output_type": "stream",
     "text": [
      "(15.85, -97.07)\n",
      "(17.96, -102.2)\n",
      "(19.22, -104.7)\n",
      "(20.7, -105.2)\n"
     ]
    }
   ],
   "source": [
    "#make tuples of all the cities\n",
    "city1_co = city1[\"Lat\"].values[0], city1[\"Lng\"].values[0]\n",
    "city2_co = city2[\"Lat\"].values[0], city2[\"Lng\"].values[0]\n",
    "city3_co = city3[\"Lat\"].values[0], city3[\"Lng\"].values[0]\n",
    "city4_co = city4[\"Lat\"].values[0], city4[\"Lng\"].values[0]\n",
    "print(city1_co)\n",
    "print(city2_co)\n",
    "print(city3_co)\n",
    "print(city4_co)"
   ]
  },
  {
   "cell_type": "code",
   "execution_count": 22,
   "metadata": {},
   "outputs": [
    {
     "data": {
      "application/vnd.jupyter.widget-view+json": {
       "model_id": "131fd67dbc894f6994e87b84e9db69b6",
       "version_major": 2,
       "version_minor": 0
      },
      "text/plain": [
       "Figure(layout=FigureLayout(height='420px'))"
      ]
     },
     "metadata": {},
     "output_type": "display_data"
    }
   ],
   "source": [
    "#route between the 4 cities. city 1=A, used waypoints for all the stops\n",
    "fig = gmaps.figure()\n",
    "city1_co2city4_co = gmaps.directions_layer(city1_co, city4_co, waypoints =[city2_co,city3_co],travel_mode=\"DRIVING\")\n",
    "fig.add_layer(city1_co2city4_co)\n",
    "fig"
   ]
  },
  {
   "cell_type": "code",
   "execution_count": 23,
   "metadata": {},
   "outputs": [
    {
     "data": {
      "text/html": [
       "<div>\n",
       "<style scoped>\n",
       "    .dataframe tbody tr th:only-of-type {\n",
       "        vertical-align: middle;\n",
       "    }\n",
       "\n",
       "    .dataframe tbody tr th {\n",
       "        vertical-align: top;\n",
       "    }\n",
       "\n",
       "    .dataframe thead th {\n",
       "        text-align: right;\n",
       "    }\n",
       "</style>\n",
       "<table border=\"1\" class=\"dataframe\">\n",
       "  <thead>\n",
       "    <tr style=\"text-align: right;\">\n",
       "      <th></th>\n",
       "      <th>City_ID</th>\n",
       "      <th>City</th>\n",
       "      <th>Country</th>\n",
       "      <th>Max Temp</th>\n",
       "      <th>Current Description</th>\n",
       "      <th>Lat</th>\n",
       "      <th>Lng</th>\n",
       "      <th>Hotel Name</th>\n",
       "    </tr>\n",
       "  </thead>\n",
       "  <tbody>\n",
       "    <tr>\n",
       "      <th>174</th>\n",
       "      <td>564</td>\n",
       "      <td>Puerto Escondido</td>\n",
       "      <td>MX</td>\n",
       "      <td>77.00</td>\n",
       "      <td>broken clouds</td>\n",
       "      <td>15.85</td>\n",
       "      <td>-97.07</td>\n",
       "      <td>Aldea del Bazar Hotel and Spa</td>\n",
       "    </tr>\n",
       "    <tr>\n",
       "      <th>168</th>\n",
       "      <td>548</td>\n",
       "      <td>Lazaro Cardenas</td>\n",
       "      <td>MX</td>\n",
       "      <td>77.74</td>\n",
       "      <td>overcast clouds</td>\n",
       "      <td>17.96</td>\n",
       "      <td>-102.20</td>\n",
       "      <td>Hotel Quinta Antigua</td>\n",
       "    </tr>\n",
       "    <tr>\n",
       "      <th>33</th>\n",
       "      <td>135</td>\n",
       "      <td>San Patricio</td>\n",
       "      <td>MX</td>\n",
       "      <td>76.77</td>\n",
       "      <td>broken clouds</td>\n",
       "      <td>19.22</td>\n",
       "      <td>-104.70</td>\n",
       "      <td>Hotel Cabo Blanco</td>\n",
       "    </tr>\n",
       "    <tr>\n",
       "      <th>107</th>\n",
       "      <td>355</td>\n",
       "      <td>Ixtapa</td>\n",
       "      <td>MX</td>\n",
       "      <td>77.00</td>\n",
       "      <td>scattered clouds</td>\n",
       "      <td>20.70</td>\n",
       "      <td>-105.20</td>\n",
       "      <td>Container Inn Puerto Vallarta</td>\n",
       "    </tr>\n",
       "  </tbody>\n",
       "</table>\n",
       "</div>"
      ],
      "text/plain": [
       "     City_ID              City Country  Max Temp Current Description    Lat  \\\n",
       "174      564  Puerto Escondido      MX     77.00       broken clouds  15.85   \n",
       "168      548   Lazaro Cardenas      MX     77.74     overcast clouds  17.96   \n",
       "33       135      San Patricio      MX     76.77       broken clouds  19.22   \n",
       "107      355            Ixtapa      MX     77.00    scattered clouds  20.70   \n",
       "\n",
       "        Lng                     Hotel Name  \n",
       "174  -97.07  Aldea del Bazar Hotel and Spa  \n",
       "168 -102.20           Hotel Quinta Antigua  \n",
       "33  -104.70              Hotel Cabo Blanco  \n",
       "107 -105.20  Container Inn Puerto Vallarta  "
      ]
     },
     "execution_count": 23,
     "metadata": {},
     "output_type": "execute_result"
    }
   ],
   "source": [
    "#merge the city dataframes\n",
    "city_merge_df = pd.concat([city1, city2, city3, city4])\n",
    "city_merge_df"
   ]
  },
  {
   "cell_type": "code",
   "execution_count": 24,
   "metadata": {},
   "outputs": [
    {
     "data": {
      "application/vnd.jupyter.widget-view+json": {
       "model_id": "fe96f142adca49f89f307484a2fabf7e",
       "version_major": 2,
       "version_minor": 0
      },
      "text/plain": [
       "Figure(layout=FigureLayout(height='420px'))"
      ]
     },
     "metadata": {},
     "output_type": "display_data"
    }
   ],
   "source": [
    "#popup marker for 4 cities\n",
    "info_box_template = \"\"\"\n",
    "<dl>\n",
    "<dt>Hotel Name</dt><dd>{Hotel Name}</dd>\n",
    "<dt>City</dt><dd>{City}</dd>\n",
    "<dt>Country</dt><dd>{Country}</dd>\n",
    "<dt>Hotel Name</dt><dd>{Hotel Name} at {Max Temp}</dd>\n",
    "\"\"\"\n",
    "\n",
    "# Store the DataFrame row\n",
    "hotel_info = [info_box_template.format(**row) for index, row in city_merge_df.iterrows()]\n",
    "\n",
    "locations = city_merge_df[[\"Lat\", \"Lng\"]]\n",
    "marker_layer = gmaps.marker_layer(locations, info_box_content=hotel_info)\n",
    "fig = gmaps.figure()\n",
    "fig.add_layer(marker_layer)\n",
    "fig\n"
   ]
  },
  {
   "cell_type": "code",
   "execution_count": null,
   "metadata": {},
   "outputs": [],
   "source": []
  },
  {
   "cell_type": "code",
   "execution_count": null,
   "metadata": {},
   "outputs": [],
   "source": []
  }
 ],
 "metadata": {
  "kernelspec": {
   "display_name": "PythonData",
   "language": "python",
   "name": "pythondata"
  },
  "language_info": {
   "codemirror_mode": {
    "name": "ipython",
    "version": 3
   },
   "file_extension": ".py",
   "mimetype": "text/x-python",
   "name": "python",
   "nbconvert_exporter": "python",
   "pygments_lexer": "ipython3",
   "version": "3.7.6"
  }
 },
 "nbformat": 4,
 "nbformat_minor": 4
}
