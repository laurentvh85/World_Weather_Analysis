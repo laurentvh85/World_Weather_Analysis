{
 "cells": [
  {
   "cell_type": "code",
   "execution_count": 1,
   "metadata": {},
   "outputs": [],
   "source": [
    "# Import the dependencies\n",
    "import pandas as pd\n",
    "import os\n",
    "import gmaps\n",
    "import gmaps.datasets\n",
    "import requests\n",
    "from config import g_key"
   ]
  },
  {
   "cell_type": "code",
   "execution_count": 2,
   "metadata": {},
   "outputs": [],
   "source": [
    "# Configure gmaps to use your Google API key.\n",
    "gmaps.configure(api_key=g_key)"
   ]
  },
  {
   "cell_type": "code",
   "execution_count": 3,
   "metadata": {},
   "outputs": [
    {
     "data": {
      "text/html": [
       "<div>\n",
       "<style scoped>\n",
       "    .dataframe tbody tr th:only-of-type {\n",
       "        vertical-align: middle;\n",
       "    }\n",
       "\n",
       "    .dataframe tbody tr th {\n",
       "        vertical-align: top;\n",
       "    }\n",
       "\n",
       "    .dataframe thead th {\n",
       "        text-align: right;\n",
       "    }\n",
       "</style>\n",
       "<table border=\"1\" class=\"dataframe\">\n",
       "  <thead>\n",
       "    <tr style=\"text-align: right;\">\n",
       "      <th></th>\n",
       "      <th>City_ID</th>\n",
       "      <th>City</th>\n",
       "      <th>Country</th>\n",
       "      <th>Max Temp</th>\n",
       "      <th>Current Description</th>\n",
       "      <th>Lat</th>\n",
       "      <th>Lng</th>\n",
       "      <th>Hotel Name</th>\n",
       "    </tr>\n",
       "  </thead>\n",
       "  <tbody>\n",
       "    <tr>\n",
       "      <th>0</th>\n",
       "      <td>0</td>\n",
       "      <td>Rikitea</td>\n",
       "      <td>PF</td>\n",
       "      <td>73.74</td>\n",
       "      <td>broken clouds</td>\n",
       "      <td>-23.12</td>\n",
       "      <td>-134.97</td>\n",
       "      <td>Pension Maro'i</td>\n",
       "    </tr>\n",
       "    <tr>\n",
       "      <th>1</th>\n",
       "      <td>4</td>\n",
       "      <td>Port-Gentil</td>\n",
       "      <td>GA</td>\n",
       "      <td>73.40</td>\n",
       "      <td>scattered clouds</td>\n",
       "      <td>-0.72</td>\n",
       "      <td>8.78</td>\n",
       "      <td>Fengshui Residence</td>\n",
       "    </tr>\n",
       "    <tr>\n",
       "      <th>2</th>\n",
       "      <td>10</td>\n",
       "      <td>Atuona</td>\n",
       "      <td>PF</td>\n",
       "      <td>80.58</td>\n",
       "      <td>clear sky</td>\n",
       "      <td>-9.80</td>\n",
       "      <td>-139.03</td>\n",
       "      <td>Villa Enata</td>\n",
       "    </tr>\n",
       "    <tr>\n",
       "      <th>3</th>\n",
       "      <td>13</td>\n",
       "      <td>Ribeira Grande</td>\n",
       "      <td>PT</td>\n",
       "      <td>68.00</td>\n",
       "      <td>scattered clouds</td>\n",
       "      <td>38.52</td>\n",
       "      <td>-28.70</td>\n",
       "      <td>Quinta da Meia Eira</td>\n",
       "    </tr>\n",
       "    <tr>\n",
       "      <th>4</th>\n",
       "      <td>22</td>\n",
       "      <td>Bengkulu</td>\n",
       "      <td>ID</td>\n",
       "      <td>75.87</td>\n",
       "      <td>overcast clouds</td>\n",
       "      <td>-3.80</td>\n",
       "      <td>102.27</td>\n",
       "      <td>Grage Hotel Bengkulu</td>\n",
       "    </tr>\n",
       "    <tr>\n",
       "      <th>...</th>\n",
       "      <td>...</td>\n",
       "      <td>...</td>\n",
       "      <td>...</td>\n",
       "      <td>...</td>\n",
       "      <td>...</td>\n",
       "      <td>...</td>\n",
       "      <td>...</td>\n",
       "      <td>...</td>\n",
       "    </tr>\n",
       "    <tr>\n",
       "      <th>197</th>\n",
       "      <td>549</td>\n",
       "      <td>Miyako</td>\n",
       "      <td>JP</td>\n",
       "      <td>69.62</td>\n",
       "      <td>broken clouds</td>\n",
       "      <td>39.64</td>\n",
       "      <td>141.95</td>\n",
       "      <td>Hotel Route Inn Miyako</td>\n",
       "    </tr>\n",
       "    <tr>\n",
       "      <th>198</th>\n",
       "      <td>552</td>\n",
       "      <td>Stuttgart</td>\n",
       "      <td>DE</td>\n",
       "      <td>66.99</td>\n",
       "      <td>overcast clouds</td>\n",
       "      <td>48.78</td>\n",
       "      <td>9.18</td>\n",
       "      <td>Hotel Motel One Stuttgart-Mitte</td>\n",
       "    </tr>\n",
       "    <tr>\n",
       "      <th>199</th>\n",
       "      <td>554</td>\n",
       "      <td>Poum</td>\n",
       "      <td>NC</td>\n",
       "      <td>70.84</td>\n",
       "      <td>broken clouds</td>\n",
       "      <td>-20.23</td>\n",
       "      <td>164.02</td>\n",
       "      <td>Gîte kajeon</td>\n",
       "    </tr>\n",
       "    <tr>\n",
       "      <th>200</th>\n",
       "      <td>562</td>\n",
       "      <td>Zhigansk</td>\n",
       "      <td>RU</td>\n",
       "      <td>70.95</td>\n",
       "      <td>broken clouds</td>\n",
       "      <td>66.77</td>\n",
       "      <td>123.37</td>\n",
       "      <td>Gostinichnyy Kompleks Aylgy</td>\n",
       "    </tr>\n",
       "    <tr>\n",
       "      <th>201</th>\n",
       "      <td>563</td>\n",
       "      <td>Nipawin</td>\n",
       "      <td>CA</td>\n",
       "      <td>66.20</td>\n",
       "      <td>overcast clouds</td>\n",
       "      <td>53.37</td>\n",
       "      <td>-104.00</td>\n",
       "      <td>Tobin Lake Motel</td>\n",
       "    </tr>\n",
       "  </tbody>\n",
       "</table>\n",
       "<p>202 rows × 8 columns</p>\n",
       "</div>"
      ],
      "text/plain": [
       "     City_ID            City Country  Max Temp Current Description    Lat  \\\n",
       "0          0         Rikitea      PF     73.74       broken clouds -23.12   \n",
       "1          4     Port-Gentil      GA     73.40    scattered clouds  -0.72   \n",
       "2         10          Atuona      PF     80.58           clear sky  -9.80   \n",
       "3         13  Ribeira Grande      PT     68.00    scattered clouds  38.52   \n",
       "4         22        Bengkulu      ID     75.87     overcast clouds  -3.80   \n",
       "..       ...             ...     ...       ...                 ...    ...   \n",
       "197      549          Miyako      JP     69.62       broken clouds  39.64   \n",
       "198      552       Stuttgart      DE     66.99     overcast clouds  48.78   \n",
       "199      554            Poum      NC     70.84       broken clouds -20.23   \n",
       "200      562        Zhigansk      RU     70.95       broken clouds  66.77   \n",
       "201      563         Nipawin      CA     66.20     overcast clouds  53.37   \n",
       "\n",
       "        Lng                       Hotel Name  \n",
       "0   -134.97                   Pension Maro'i  \n",
       "1      8.78               Fengshui Residence  \n",
       "2   -139.03                      Villa Enata  \n",
       "3    -28.70              Quinta da Meia Eira  \n",
       "4    102.27             Grage Hotel Bengkulu  \n",
       "..      ...                              ...  \n",
       "197  141.95           Hotel Route Inn Miyako  \n",
       "198    9.18  Hotel Motel One Stuttgart-Mitte  \n",
       "199  164.02                      Gîte kajeon  \n",
       "200  123.37      Gostinichnyy Kompleks Aylgy  \n",
       "201 -104.00                 Tobin Lake Motel  \n",
       "\n",
       "[202 rows x 8 columns]"
      ]
     },
     "execution_count": 3,
     "metadata": {},
     "output_type": "execute_result"
    }
   ],
   "source": [
    "#load files\n",
    "weather_py_data_to_load = os.path.join(\"weather_data\",\"WeatherPy_vacation.csv\")\n",
    "weather_py_df = pd.read_csv(weather_py_data_to_load)\n",
    "weather_py_df"
   ]
  },
  {
   "cell_type": "code",
   "execution_count": 4,
   "metadata": {
    "scrolled": true
   },
   "outputs": [
    {
     "data": {
      "application/vnd.jupyter.widget-view+json": {
       "model_id": "2015376f8ccf4a7aa19a19aae1841b02",
       "version_major": 2,
       "version_minor": 0
      },
      "text/plain": [
       "Figure(layout=FigureLayout(height='420px'))"
      ]
     },
     "metadata": {},
     "output_type": "display_data"
    }
   ],
   "source": [
    "# Using the template add the hotel marks to the map\n",
    "info_box_template = \"\"\"\n",
    "<dl>\n",
    "<dt>Hotel Name</dt><dd>{Hotel Name}</dd>\n",
    "<dt>City</dt><dd>{City}</dd>\n",
    "<dt>Country</dt><dd>{Country}</dd>\n",
    "<dt>Hotel Name</dt><dd>{Hotel Name} at {Max Temp}</dd>\n",
    "\"\"\"\n",
    "\n",
    "# Store the DataFrame row\n",
    "hotel_info = [info_box_template.format(**row) for index, row in weather_py_df.iterrows()]\n",
    "\n",
    "# Add a marker layer map of the vacation spots and a pop-up marker for each city\n",
    "locations = weather_py_df[[\"Lat\", \"Lng\"]]\n",
    "marker_layer = gmaps.marker_layer(locations, info_box_content=hotel_info)\n",
    "fig = gmaps.figure(center=(38,38), zoom_level = 1.8)\n",
    "fig.add_layer(marker_layer)\n",
    "fig\n"
   ]
  },
  {
   "cell_type": "code",
   "execution_count": 5,
   "metadata": {},
   "outputs": [
    {
     "name": "stdout",
     "output_type": "stream",
     "text": [
      "Please list 4 cities that are close to each other on the map\n"
     ]
    }
   ],
   "source": [
    "print(\"Please list 4 cities that are close to each other on the map\")"
   ]
  },
  {
   "cell_type": "code",
   "execution_count": 6,
   "metadata": {},
   "outputs": [
    {
     "name": "stdout",
     "output_type": "stream",
     "text": [
      "Enter first city Broome\n",
      "Enter second city Jamestown\n",
      "Enter third city Fairmont\n",
      "Enter fourth city Hamilton\n"
     ]
    }
   ],
   "source": [
    "#prompt for city\n",
    "city1 = input(\"Enter first city \")\n",
    "city2 = input(\"Enter second city \")\n",
    "city3 = input(\"Enter third city \")\n",
    "city4 = input(\"Enter fourth city \")"
   ]
  },
  {
   "cell_type": "code",
   "execution_count": 7,
   "metadata": {},
   "outputs": [],
   "source": [
    "#loc for separate databases\n",
    "city1 = weather_py_df.loc[weather_py_df[\"City\"] == city1]\n",
    "city2 = weather_py_df.loc[weather_py_df[\"City\"] == city2]\n",
    "city3 = weather_py_df.loc[weather_py_df[\"City\"] == city3]\n",
    "city4 = weather_py_df.loc[weather_py_df[\"City\"] == city4]"
   ]
  },
  {
   "cell_type": "code",
   "execution_count": 8,
   "metadata": {},
   "outputs": [
    {
     "name": "stdout",
     "output_type": "stream",
     "text": [
      "     City_ID    City Country  Max Temp Current Description    Lat    Lng  \\\n",
      "133      388  Broome      US      77.0          few clouds  42.25 -75.83   \n",
      "\n",
      "                     Hotel Name  \n",
      "133  Chenango Valley State Park  \n",
      "    City_ID       City Country  Max Temp Current Description   Lat    Lng  \\\n",
      "11       43  Jamestown      US     78.01           clear sky  42.1 -79.24   \n",
      "\n",
      "                        Hotel Name  \n",
      "11  Hampton Inn & Suites Jamestown  \n",
      "     City_ID      City Country  Max Temp Current Description    Lat    Lng  \\\n",
      "107      305  Fairmont      US      82.0     overcast clouds  39.49 -80.14   \n",
      "\n",
      "      Hotel Name  \n",
      "107  Clarion Inn  \n",
      "    City_ID      City Country  Max Temp Current Description    Lat    Lng  \\\n",
      "43      130  Hamilton      US      82.0       broken clouds  39.18 -84.53   \n",
      "\n",
      "                   Hotel Name  \n",
      "43  Six Acres Bed & Breakfast  \n"
     ]
    }
   ],
   "source": [
    "print(city1)\n",
    "print(city2)\n",
    "print(city3)\n",
    "print(city4)"
   ]
  },
  {
   "cell_type": "code",
   "execution_count": 9,
   "metadata": {},
   "outputs": [
    {
     "name": "stdout",
     "output_type": "stream",
     "text": [
      "(42.25, -75.83)\n",
      "(42.1, -79.24)\n",
      "(39.49, -80.14)\n",
      "(39.18, -84.53)\n"
     ]
    }
   ],
   "source": [
    "#make tuples of all the cities\n",
    "city1_co = city1[\"Lat\"].values[0], city1[\"Lng\"].values[0]\n",
    "city2_co = city2[\"Lat\"].values[0], city2[\"Lng\"].values[0]\n",
    "city3_co = city3[\"Lat\"].values[0], city3[\"Lng\"].values[0]\n",
    "city4_co = city4[\"Lat\"].values[0], city4[\"Lng\"].values[0]\n",
    "print(city1_co)\n",
    "print(city2_co)\n",
    "print(city3_co)\n",
    "print(city4_co)"
   ]
  },
  {
   "cell_type": "code",
   "execution_count": 10,
   "metadata": {},
   "outputs": [
    {
     "data": {
      "application/vnd.jupyter.widget-view+json": {
       "model_id": "8e2c805a77e6443eae5a3745ddfdb7e1",
       "version_major": 2,
       "version_minor": 0
      },
      "text/plain": [
       "Figure(layout=FigureLayout(height='420px'))"
      ]
     },
     "metadata": {},
     "output_type": "display_data"
    }
   ],
   "source": [
    "#route between the 4 cities. city 1=A, used waypoints for all the stops\n",
    "fig = gmaps.figure()\n",
    "city1_co2city4_co = gmaps.directions_layer(city1_co, city4_co, waypoints =[city2_co,city3_co],travel_mode=\"DRIVING\")\n",
    "fig.add_layer(city1_co2city4_co)\n",
    "fig"
   ]
  },
  {
   "cell_type": "code",
   "execution_count": 11,
   "metadata": {},
   "outputs": [
    {
     "data": {
      "text/html": [
       "<div>\n",
       "<style scoped>\n",
       "    .dataframe tbody tr th:only-of-type {\n",
       "        vertical-align: middle;\n",
       "    }\n",
       "\n",
       "    .dataframe tbody tr th {\n",
       "        vertical-align: top;\n",
       "    }\n",
       "\n",
       "    .dataframe thead th {\n",
       "        text-align: right;\n",
       "    }\n",
       "</style>\n",
       "<table border=\"1\" class=\"dataframe\">\n",
       "  <thead>\n",
       "    <tr style=\"text-align: right;\">\n",
       "      <th></th>\n",
       "      <th>City_ID</th>\n",
       "      <th>City</th>\n",
       "      <th>Country</th>\n",
       "      <th>Max Temp</th>\n",
       "      <th>Current Description</th>\n",
       "      <th>Lat</th>\n",
       "      <th>Lng</th>\n",
       "      <th>Hotel Name</th>\n",
       "    </tr>\n",
       "  </thead>\n",
       "  <tbody>\n",
       "    <tr>\n",
       "      <th>133</th>\n",
       "      <td>388</td>\n",
       "      <td>Broome</td>\n",
       "      <td>US</td>\n",
       "      <td>77.00</td>\n",
       "      <td>few clouds</td>\n",
       "      <td>42.25</td>\n",
       "      <td>-75.83</td>\n",
       "      <td>Chenango Valley State Park</td>\n",
       "    </tr>\n",
       "    <tr>\n",
       "      <th>11</th>\n",
       "      <td>43</td>\n",
       "      <td>Jamestown</td>\n",
       "      <td>US</td>\n",
       "      <td>78.01</td>\n",
       "      <td>clear sky</td>\n",
       "      <td>42.10</td>\n",
       "      <td>-79.24</td>\n",
       "      <td>Hampton Inn &amp; Suites Jamestown</td>\n",
       "    </tr>\n",
       "    <tr>\n",
       "      <th>107</th>\n",
       "      <td>305</td>\n",
       "      <td>Fairmont</td>\n",
       "      <td>US</td>\n",
       "      <td>82.00</td>\n",
       "      <td>overcast clouds</td>\n",
       "      <td>39.49</td>\n",
       "      <td>-80.14</td>\n",
       "      <td>Clarion Inn</td>\n",
       "    </tr>\n",
       "    <tr>\n",
       "      <th>43</th>\n",
       "      <td>130</td>\n",
       "      <td>Hamilton</td>\n",
       "      <td>US</td>\n",
       "      <td>82.00</td>\n",
       "      <td>broken clouds</td>\n",
       "      <td>39.18</td>\n",
       "      <td>-84.53</td>\n",
       "      <td>Six Acres Bed &amp; Breakfast</td>\n",
       "    </tr>\n",
       "  </tbody>\n",
       "</table>\n",
       "</div>"
      ],
      "text/plain": [
       "     City_ID       City Country  Max Temp Current Description    Lat    Lng  \\\n",
       "133      388     Broome      US     77.00          few clouds  42.25 -75.83   \n",
       "11        43  Jamestown      US     78.01           clear sky  42.10 -79.24   \n",
       "107      305   Fairmont      US     82.00     overcast clouds  39.49 -80.14   \n",
       "43       130   Hamilton      US     82.00       broken clouds  39.18 -84.53   \n",
       "\n",
       "                         Hotel Name  \n",
       "133      Chenango Valley State Park  \n",
       "11   Hampton Inn & Suites Jamestown  \n",
       "107                     Clarion Inn  \n",
       "43        Six Acres Bed & Breakfast  "
      ]
     },
     "execution_count": 11,
     "metadata": {},
     "output_type": "execute_result"
    }
   ],
   "source": [
    "#merge the city dataframes\n",
    "city_merge_df = pd.concat([city1, city2, city3, city4])\n",
    "city_merge_df"
   ]
  },
  {
   "cell_type": "code",
   "execution_count": 12,
   "metadata": {},
   "outputs": [
    {
     "data": {
      "application/vnd.jupyter.widget-view+json": {
       "model_id": "afe90e2a22f9455f9234914399f780c9",
       "version_major": 2,
       "version_minor": 0
      },
      "text/plain": [
       "Figure(layout=FigureLayout(height='420px'))"
      ]
     },
     "metadata": {},
     "output_type": "display_data"
    }
   ],
   "source": [
    "#popup marker for 4 cities\n",
    "info_box_template = \"\"\"\n",
    "<dl>\n",
    "<dt>Hotel Name</dt><dd>{Hotel Name}</dd>\n",
    "<dt>City</dt><dd>{City}</dd>\n",
    "<dt>Country</dt><dd>{Country}</dd>\n",
    "<dt>Hotel Name</dt><dd>{Hotel Name} at {Max Temp}</dd>\n",
    "\"\"\"\n",
    "\n",
    "# Store the DataFrame row\n",
    "hotel_info = [info_box_template.format(**row) for index, row in city_merge_df.iterrows()]\n",
    "\n",
    "locations = city_merge_df[[\"Lat\", \"Lng\"]]\n",
    "marker_layer = gmaps.marker_layer(locations, info_box_content=hotel_info)\n",
    "fig = gmaps.figure()\n",
    "fig.add_layer(marker_layer)\n",
    "fig\n"
   ]
  },
  {
   "cell_type": "code",
   "execution_count": null,
   "metadata": {},
   "outputs": [],
   "source": []
  }
 ],
 "metadata": {
  "kernelspec": {
   "display_name": "PythonData",
   "language": "python",
   "name": "pythondata"
  },
  "language_info": {
   "codemirror_mode": {
    "name": "ipython",
    "version": 3
   },
   "file_extension": ".py",
   "mimetype": "text/x-python",
   "name": "python",
   "nbconvert_exporter": "python",
   "pygments_lexer": "ipython3",
   "version": "3.7.6"
  }
 },
 "nbformat": 4,
 "nbformat_minor": 4
}
